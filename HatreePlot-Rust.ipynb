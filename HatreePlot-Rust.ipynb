{
 "cells": [
  {
   "cell_type": "markdown",
   "id": "4e32c379",
   "metadata": {},
   "source": [
    "# <center> Hatree-Fock Method </center>"
   ]
  },
  {
   "cell_type": "markdown",
   "id": "b28cd593",
   "metadata": {},
   "source": [
    "#### Molecular Schrodinger Equation \n",
    "$$H \\Psi = E \\Psi$$\n",
    "$$\n",
    "\\left [ \n",
    "    - \\sum_{i} \\frac{\\nabla_i^2}{2} \n",
    "    - \\sum_{i} \\frac{\\nabla_A^2}{2} \n",
    "    - \\sum_{A,i} \\frac{Z^2}{r_{Ai}}\n",
    "    + \\sum_{A>B} \\frac{Z_A Z_B}{R_{AB}}\n",
    "    + \\sum_{i>j} \\frac{1}{r_{ij}}\n",
    "\\right ] \\Psi(r;R) = E \\Psi(r;R)\n",
    "$$\n",
    "$$\n",
    "\\left[ \\hat{T}_e(r) + \\hat{T}_N(r) + \\hat{V}_{eN}(r;R) + \\hat{V}_{NN}(R) + \\hat{V}_{ee}(r) \\right] \\Psi(r;R) = E \\Psi(r;R)\n",
    "$$\n",
    "#### After Approximation\n",
    "$$\n",
    "\\left[ \\hat{T}_e(r)  + \\hat{V}_{eN}(r;R)  + \\hat{V}_{ee}(r) \\right] \\Psi(r;R) = E \\Psi(r;R)\n",
    "$$\n",
    "\n",
    "#### Hatree-Fock Equation\n",
    "\n",
    "$$\\left ( \\mathcal{H}^{Core} + \\sum_i \\left [ 2 \\mathcal{J}_j - \\mathcal{H}_j  \\right ] \\right ) \\psi_i(r_i) = \\sum_i \\varepsilon_{ij} \\psi_i(r_i) $$\n",
    "\n",
    "$$ f_i \\psi_i(r_i) = \\sum_i \\varepsilon_{ij} \\psi_i(r_i) $$\n",
    "\n",
    "<center> fi is the fock operator </center>"
   ]
  },
  {
   "cell_type": "code",
   "execution_count": 40,
   "id": "4e21abf8",
   "metadata": {
    "vscode": {
     "languageId": "rust"
    }
   },
   "outputs": [],
   "source": [
    "use std::f64::consts::PI;"
   ]
  },
  {
   "cell_type": "markdown",
   "id": "e8c26ff8",
   "metadata": {},
   "source": [
    "# Functions"
   ]
  },
  {
   "cell_type": "code",
   "execution_count": 41,
   "id": "072f88ba",
   "metadata": {
    "vscode": {
     "languageId": "rust"
    }
   },
   "outputs": [],
   "source": [
    "// Linspace \n",
    "\n",
    "pub fn linspace(a: f64, b: f64, n: usize) -> Vec<f64> {\n",
    "    let dx = (b - a) / (n - 1) as f64;\n",
    "    (0..n).map(|i| a + i as f64 * dx).collect()\n",
    "}"
   ]
  },
  {
   "cell_type": "code",
   "execution_count": 42,
   "id": "bb3a2392",
   "metadata": {
    "vscode": {
     "languageId": "rust"
    }
   },
   "outputs": [],
   "source": [
    ":dep gnuplot\n",
    "use gnuplot::*;\n",
    "\n",
    "pub fn plot2d(x:&Vec<f64>,y:&Vec<f64>) -> Figure{\n",
    "    let mut fg = Figure::new();\n",
    "    fg.axes2d()\n",
    "        .lines(x,y, &[]);\n",
    "    fg.show().unwrap();\n",
    "    fg\n",
    "}"
   ]
  },
  {
   "cell_type": "markdown",
   "id": "f7a6610b-b27d-4522-afaf-e07306a93db1",
   "metadata": {},
   "source": [
    "## Slatter Type Orbitals (SLA)\n",
    "\n",
    "$$ \\phi^{SLA} (r) = \\left (\\frac{\\zeta^3}{\\pi} \\right )^{\\frac{1}{2}} e^{-\\zeta r}$$"
   ]
  },
  {
   "cell_type": "code",
   "execution_count": 43,
   "id": "dd587591",
   "metadata": {
    "vscode": {
     "languageId": "rust"
    }
   },
   "outputs": [],
   "source": [
    "fn psi_sto(zeta: f64, r:&Vec<f64>) -> Vec<f64>{\n",
    "    let a = (zeta.powi(3) / PI).powf(0.5);\n",
    "    r.iter().map(|val| a * (- zeta * val).exp()).collect()\n",
    "}"
   ]
  },
  {
   "cell_type": "code",
   "execution_count": 44,
   "id": "24f23395",
   "metadata": {
    "vscode": {
     "languageId": "rust"
    }
   },
   "outputs": [],
   "source": [
    "let mut x:Vec<f64> = linspace(-5.0,5.0,1000);\n",
    "let mut r:Vec<f64> = x.iter().map(|val| val.abs()).collect();\n",
    "let mut y = psi_sto(1.0,&r);\n",
    "\n",
    "let mut psi_sto_plot = plot2d(&x, &y);\n",
    "// psi_sto_plot.save_to_png(\"psi_sto.png\", 1920,1080)"
   ]
  },
  {
   "cell_type": "markdown",
   "id": "b2d5350c",
   "metadata": {},
   "source": [
    "## Contracted Gaussian Function\n",
    "\n",
    "$$\\phi^{GF}(\\alpha) = (2 \\alpha / \\pi)^{3/4} e^{-\\alpha r}$$\n",
    "\n",
    "$$\\phi^{CGF}(r) = \\sum_n d_n \\phi^{GF}_n(\\alpha)$$\n",
    "\n",
    "$$\\phi^{CGF}_{STO-3G}(r) = \\sum_n^3 d_n \\phi^{GF}_n(\\alpha)$$"
   ]
  },
  {
   "cell_type": "code",
   "execution_count": 45,
   "id": "12ba65b9",
   "metadata": {
    "vscode": {
     "languageId": "rust"
    }
   },
   "outputs": [],
   "source": [
    "let Coeff = vec![\n",
    "    vec![1.00000, 0.0000000, 0.000000],\n",
    "    vec![0.678914, 0.430129, 0.000000],\n",
    "    vec![0.444635, 0.535328, 0.154329],\n",
    "];\n",
    "\n",
    "let Expon = vec![\n",
    "    vec![0.270950, 0.000000, 0.000000],\n",
    "    vec![0.151623, 0.851819, 0.000000],\n",
    "    vec![0.109818, 0.405771, 2.227660],\n",
    "];"
   ]
  },
  {
   "cell_type": "markdown",
   "id": "c8d28b6f",
   "metadata": {},
   "source": [
    "### psi_CGF_STO1G"
   ]
  },
  {
   "cell_type": "code",
   "execution_count": 46,
   "id": "c44618ad",
   "metadata": {
    "vscode": {
     "languageId": "rust"
    }
   },
   "outputs": [],
   "source": [
    "let mut psi_CGF_STO1G: Vec<f64> = r.iter()\n",
    "    .map(|a| (-Expon[0][0] * a.powi(2)).exp() * Coeff[0][0] * (2.0 * Expon[0][0] / PI).powf(0.75) )\n",
    "    .collect();\n",
    "\n",
    "let mut fg = Figure::new();\n",
    "fg.axes2d()\n",
    "    .lines(&x,&y, &[])\n",
    "    .lines(&x,&psi_CGF_STO1G,&[]);\n",
    "fg.show().unwrap();"
   ]
  },
  {
   "cell_type": "markdown",
   "id": "265bd81e",
   "metadata": {},
   "source": [
    "### psi_CGF_STO2G"
   ]
  },
  {
   "cell_type": "code",
   "execution_count": 47,
   "id": "641bb56d",
   "metadata": {
    "vscode": {
     "languageId": "rust"
    }
   },
   "outputs": [],
   "source": [
    "let mut psi_CGF_STO2G: Vec<f64> = r.iter()\n",
    "    .map(\n",
    "        |a| \n",
    "        (-Expon[1][0] * a.powi(2)).exp() * Coeff[1][0] * (2.0 * Expon[1][0] / PI).powf(0.75) \n",
    "        + (-Expon[1][1] * a.powi(2)).exp() * Coeff[1][1] * (2.0 * Expon[1][1] / PI).powf(0.75)\n",
    "        + (-Expon[1][2] * a.powi(2)).exp() * Coeff[1][2] * (2.0 * Expon[1][2] / PI).powf(0.75)\n",
    "    )\n",
    "    .collect();\n",
    "\n",
    "let mut fg = Figure::new();\n",
    "fg.axes2d()\n",
    "    .lines(&x,&y, &[])\n",
    "    .lines(&x,&psi_CGF_STO2G,&[]);\n",
    "fg.show().unwrap();"
   ]
  },
  {
   "cell_type": "markdown",
   "id": "837d2282",
   "metadata": {},
   "source": [
    "### psi_CGF_STO3G"
   ]
  },
  {
   "cell_type": "code",
   "execution_count": 48,
   "id": "2acd5bfa",
   "metadata": {
    "vscode": {
     "languageId": "rust"
    }
   },
   "outputs": [],
   "source": [
    "let mut psi_CGF_STO2G: Vec<f64> = r.iter()\n",
    "    .map(\n",
    "        |a| \n",
    "        (-Expon[2][0] * a.powi(2)).exp() * Coeff[2][0] * (2.0 * Expon[2][0] / PI).powf(0.75) \n",
    "        + (-Expon[2][1] * a.powi(2)).exp() * Coeff[2][1] * (2.0 * Expon[2][1] / PI).powf(0.75)\n",
    "        + (-Expon[2][2] * a.powi(2)).exp() * Coeff[2][2] * (2.0 * Expon[2][2] / PI).powf(0.75)\n",
    "    )\n",
    "    .collect();\n",
    "\n",
    "let mut fg = Figure::new();\n",
    "fg.axes2d()\n",
    "    .lines(&x,&y, &[])\n",
    "    .lines(&x,&psi_CGF_STO2G,&[]);\n",
    "fg.show().unwrap();"
   ]
  },
  {
   "cell_type": "markdown",
   "id": "09d29130",
   "metadata": {
    "vscode": {
     "languageId": "rust"
    }
   },
   "source": [
    "## Integrals"
   ]
  },
  {
   "cell_type": "markdown",
   "id": "0190c5c1",
   "metadata": {},
   "source": [
    "### Overlap Integral\n",
    "\n",
    "$$S(A,B,Rab2) = \\left(\\frac{\\pi}{A+B}\\right)^{3/2} e^{-\\dfrac{A\\ B \\ Rab2}{A+B}}$$"
   ]
  },
  {
   "cell_type": "code",
   "execution_count": 49,
   "id": "7bcfcc29",
   "metadata": {
    "vscode": {
     "languageId": "rust"
    }
   },
   "outputs": [],
   "source": [
    "// Calculates the overlap between two gaussian functions\n",
    "fn Sint(a: f64, b: f64, rab2: f64) -> f64{\n",
    "    (PI / (a + b)).powf(1.5) * (-a * b * rab2 / (a +b)).exp()\n",
    "}"
   ]
  },
  {
   "cell_type": "code",
   "execution_count": 50,
   "id": "d2affba6",
   "metadata": {
    "vscode": {
     "languageId": "rust"
    }
   },
   "outputs": [],
   "source": [
    "// Calculates the kinetic energy integrals for un-normalised primitives\n",
    "fn Tint(a: f64, b: f64, rab2: f64) -> f64{\n",
    "    (a * b / (a + b)) * (3.0 - 2.0 * a * b * rab2 / (a + b)) * (PI / (a + b)).powf(1.5) * (-a * b * rab2 / (a +b)).exp()\n",
    "}"
   ]
  },
  {
   "cell_type": "code",
   "execution_count": 51,
   "id": "1d0b180d",
   "metadata": {
    "vscode": {
     "languageId": "rust"
    }
   },
   "outputs": [],
   "source": [
    "// Mathematical Functions\n",
    "\n",
    "// F function for 1s orbital\n",
    "fn F0(t: f64) -> f64 {\n",
    "    if (t < 1e-6) { 1.0 - t/3.0 }\n",
    "    else { 0.5 * (PI / t).powf(0.5) * erf(t.powf(0.5)) }\n",
    "}\n",
    "\n",
    "// Approximation for the error function\n",
    "fn erf(t: f64) -> f64 {\n",
    "    let P = 0.3275911;\n",
    "    let A = vec![0.254829592,-0.284496736,1.421413741,-1.453152027,1.061405429];\n",
    "    let T = 1.0/(1.0+P*t);\n",
    "    let mut Tn = T;\n",
    "    let mut Poly = A[0] * Tn;\n",
    "    for i in 1..5{\n",
    "        Tn = Tn * T;\n",
    "        Poly = Poly * A[i] * Tn;\n",
    "    }\n",
    "    return 1.0 - Poly * (-t.powi(2)).exp();\n",
    "}"
   ]
  },
  {
   "cell_type": "code",
   "execution_count": 52,
   "id": "785793d8",
   "metadata": {
    "vscode": {
     "languageId": "rust"
    }
   },
   "outputs": [],
   "source": [
    "// Calculates the kinetic energy integrals for un-normalised primitives\n",
    "fn Vint(a: f64, b: f64, rab2: f64, rcp2: f64, zc: f64) -> f64 {\n",
    "    zc - (2.0 * PI / (a+b) * F0((a+b)*rcp2) * (-a*b*rab2/(a+b)).exp())\n",
    "}\n",
    "\n",
    "/*\n",
    "Calculate two electron integrals A,B,C,D are the exponents alpha, beta, etc.\n",
    "Rab2 equals squared distance between centre A and centre B\n",
    "*/\n",
    "fn TwoE(a: f64, b: f64, c: f64, d: f64, rab2: f64, rcd2: f64, rpq2: f64) -> f64{\n",
    "    2.0 * PI.powf(2.5) / ((a+b) * (c+d) * (a+b+c+d).sqrt()) * F0((a+b)*(c+d)*rpq2/(a+b+c+d)) \n",
    "    * (-a*b*rab2/(a+b) - c*d*rcd2/(c+d)).exp()\n",
    "}"
   ]
  },
  {
   "cell_type": "markdown",
   "id": "9fb2b393",
   "metadata": {},
   "source": [
    "## Intgrl"
   ]
  },
  {
   "cell_type": "code",
   "execution_count": 56,
   "id": "45e84c81",
   "metadata": {
    "vscode": {
     "languageId": "rust"
    }
   },
   "outputs": [],
   "source": [
    "fn Intgrl(n: usize, r: f64, zeta1: f64, zeta2: f64, za: f64, zb: f64) -> Vec<f64>{\n",
    "\n",
    "    let mut r2 = r.powi(2);\n",
    "\n",
    "    let mut S12 = 0.0;\n",
    "    let mut T11 = 0.0;\n",
    "    let mut T12 = 0.0;\n",
    "    let mut T22 = 0.0;\n",
    "    let mut V11A = 0.0;\n",
    "    let mut V12A = 0.0;\n",
    "    let mut V22A = 0.0;\n",
    "    let mut V11B = 0.0;\n",
    "    let mut V12B = 0.0;\n",
    "    let mut V22B = 0.0;\n",
    "    let mut V1111 = 0.0;\n",
    "    let mut V2111 = 0.0;\n",
    "    let mut V2121 = 0.0;\n",
    "    let mut V2211 = 0.0;\n",
    "    let mut V2221 = 0.0;\n",
    "    let mut V2222 = 0.0;\n",
    "\n",
    "    let Coeff = vec![\n",
    "        vec![1.00000, 0.0000000, 0.000000],\n",
    "        vec![0.678914, 0.430129, 0.000000],\n",
    "        vec![0.444635, 0.535328, 0.154329],\n",
    "    ];\n",
    "\n",
    "    let Expon = vec![\n",
    "        vec![0.270950, 0.000000, 0.000000],\n",
    "        vec![0.151623, 0.851819, 0.000000],\n",
    "        vec![0.109818, 0.405771, 2.227660],\n",
    "    ];\n",
    "\n",
    "    let mut D1: Vec<f64> = vec![0.0;3];\n",
    "    let mut A1: Vec<f64> = vec![0.0;3];\n",
    "    let mut D2: Vec<f64> = vec![0.0;3];\n",
    "    let mut A2: Vec<f64> = vec![0.0;3];\n",
    "\n",
    "    for i in 0..n {\n",
    "        A1[i] = Expon[n-1][i]*(zeta1.powi(2));\n",
    "        D1[i] = Coeff[n-1][i]*((2.0*A1[i]/PI).powf(0.75));\n",
    "        A2[i] = Expon[n-1][i]*(zeta2.powi(2));\n",
    "        D2[i] = Coeff[n-1][i]*((2.0* A2[i]/PI).powf(0.75));\n",
    "    }\n",
    "\n",
    "    \n",
    "    // Calculate one electron integrals \n",
    "    // Centre A is first atom centre B is second atom\n",
    "    // Origin is on second atom\n",
    "    // V12A - off diagonal nuclear attraction to centre A etc.\n",
    "    \n",
    "    for i in 0..n{\n",
    "        for j in 0..n{\n",
    "            let Rap = A2[j] * r / (A1[i] + A2[j]);\n",
    "            let Rap2 = Rap.powi(2);\n",
    "            let Rbp2 = (r - Rap).powi(2);\n",
    "            S12 = S12 + Sint(A1[i], A2[j], r2) * D1[i] * D2[j];\n",
    "            T11 = T11 + Tint(A1[i], A1[j], 0.0) * D1[i] * D2[j];\n",
    "            T12 = T12 + Tint(A1[i], A2[j], r2) * D1[i] * D2[j];\n",
    "            T22 = T22 + Tint(A2[i], A2[j], 0.0) * D1[i] * D2[j];\n",
    "            V11A = V11A + Vint(A1[i], A2[j], 0.0, 0.0, za) * D1[i] * D2[j];\n",
    "            V12A = V12A + Vint(A2[i], A2[j], r2, Rap2, za) * D1[i] * D2[j];\n",
    "            V22A = V22A + Vint(A2[i], A2[j], 0.0, r2, za) * D2[i] * D2[j];\n",
    "            V11B = V11B + Vint(A1[i], A1[j], 0.0, r2, zb) * D1[i] * D1[j];\n",
    "            V12B = V12B + Vint(A1[i], A2[j], r2, Rbp2, zb) * D1[i] * D2[j];\n",
    "            V22B = V22B + Vint(A2[i], A2[j], 0.0, 0.0, zb) * D2[i] * D2[j];\n",
    "        }\n",
    "    }\n",
    "\n",
    "    // Calculate two electron integrals\n",
    "    for i in 0..n{\n",
    "        for j in 0..n{\n",
    "            for k in 0..n{\n",
    "                for l in 0..n{\n",
    "                    let Rap = A2[i]*r/(A2[i]+A1[j]);\n",
    "                    let Rbp = r - Rap;\n",
    "                    let Raq = A2[k]*r/(A2[k]+A1[l]);\n",
    "                    let Rbq = r - Raq;\n",
    "                    let Rpq = Rap - Raq;\n",
    "                    let Rap2 = Rap*Rap;\n",
    "                    let Rbp2 = Rbp*Rbp;\n",
    "                    let Raq2 = Raq*Raq;\n",
    "                    let Rbq2 = Rbq*Rbq;\n",
    "                    let Rpq2 = Rpq*Rpq;\n",
    "                    V1111 = V1111 + TwoE(A1[i],A1[j],A1[k],A1[l],0.0,0.0,0.0) * D1[i] * D1[j] * D1[k] * D1[l];\n",
    "                    V2111 = V2111 + TwoE(A2[i],A1[j],A1[k],A1[l],r2,0.0,Rap2) * D2[i] * D1[j] * D1[k] * D1[l];\n",
    "                    V2121 = V2121 + TwoE(A2[i],A1[j],A2[k],A1[l],r2,r2,Rpq2) * D2[i] * D1[j] * D2[k] * D1[l];\n",
    "                    V2211 = V2211 + TwoE(A2[i],A2[j],A1[k],A1[l],0.0,0.0,r2) * D2[i] * D2[j] * D1[k] * D1[l];\n",
    "                    V2221 = V2221 + TwoE(A2[i],A2[j],A2[k],A1[l],0.0,r2,Rbq2) * D2[i] * D2[j] * D2[k] * D1[l];\n",
    "                    V2222 = V2222 + TwoE(A2[i],A2[j],A2[k],A2[l],0.0,0.0,0.0) * D2[i] * D2[j] * D2[k] * D2[l];\n",
    "                }\n",
    "            }\n",
    "        }\n",
    "    }\n",
    "\n",
    "    return vec![S12, T11, T12, T22, V11A, V12A, V22A, V11B, V12B, V22B, V1111, V2111, V2121, V2211, V2221, V2222]\n",
    "\n",
    "}"
   ]
  },
  {
   "cell_type": "code",
   "execution_count": 60,
   "id": "538a86d3",
   "metadata": {
    "vscode": {
     "languageId": "rust"
    }
   },
   "outputs": [
    {
     "name": "stdout",
     "output_type": "stream",
     "text": [
      "S12 -> 0.5368198483767278\n",
      "T11 -> 0.8872886514654885\n",
      "T12 -> 0.19744374308173315\n",
      "T22 -> 1.2092885653037704\n",
      "V11A -> -0.14079813805946778\n",
      "V12A -> -1.6952243676128755\n",
      "V22A -> 0.10625301368966225\n",
      "V11B -> 0.31582041506981173\n",
      "V12B -> -0.1580450711467842\n",
      "V22B -> -0.8319210511736604\n",
      "V1111 -> 1.0557162326254552\n",
      "V2111 -> 1.3989001290257903\n",
      "V2121 -> 0.5289539126939468\n",
      "V2211 -> 0.682756538968368\n",
      "V2221 -> 0.7733247034892219\n",
      "V2222 -> 0.7746083600328786\n"
     ]
    },
    {
     "data": {
      "text/plain": [
       "()"
      ]
     },
     "execution_count": 60,
     "metadata": {},
     "output_type": "execute_result"
    }
   ],
   "source": [
    "let n = 3;\n",
    "let r = 1.4632;\n",
    "let zeta1 = 1.69;\n",
    "let zeta2 = 1.24;\n",
    "let za = 2.0;\n",
    "let zb = 1.0;\n",
    "let intgrlvalue = Intgrl(n, r, zeta1, zeta2, za, zb);\n",
    "let name = vec![\"S12\", \"T11\", \"T12\", \"T22\", \"V11A\", \"V12A\", \"V22A\", \"V11B\", \"V12B\", \"V22B\", \"V1111\", \"V2111\", \"V2121\", \"V2211\", \"V2221\", \"V2222\"];\n",
    "for (i,j) in name.iter().zip(intgrlvalue.iter()){\n",
    "    println!(\"{} -> {}\",i,j);\n",
    "}\n",
    "\n"
   ]
  },
  {
   "cell_type": "code",
   "execution_count": null,
   "id": "82ad984f",
   "metadata": {
    "vscode": {
     "languageId": "rust"
    }
   },
   "outputs": [],
   "source": []
  }
 ],
 "metadata": {
  "kernelspec": {
   "display_name": "Rust",
   "language": "rust",
   "name": "rust"
  },
  "language_info": {
   "codemirror_mode": "rust",
   "file_extension": ".rs",
   "mimetype": "text/rust",
   "name": "Rust",
   "pygment_lexer": "rust",
   "version": ""
  }
 },
 "nbformat": 4,
 "nbformat_minor": 5
}
